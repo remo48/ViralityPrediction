{
 "cells": [
  {
   "cell_type": "code",
   "execution_count": 8,
   "metadata": {},
   "outputs": [],
   "source": [
    "import sys, warnings\n",
    "sys.path.append('../code/')\n",
    "import pandas as pd\n",
    "import numpy as np\n",
    "from tqdm import tqdm\n",
    "from random import shuffle\n",
    "import matplotlib.pyplot as plt\n",
    "from sklearn.model_selection import train_test_split\n",
    "from sklearn.linear_model import LinearRegression\n",
    "from sklearn.ensemble import RandomForestClassifier, GradientBoostingClassifier\n",
    "from sklearn.naive_bayes import GaussianNB\n",
    "from sklearn.ensemble import VotingClassifier\n",
    "from sklearn.svm import SVC\n",
    "from sklearn.neural_network import MLPRegressor\n",
    "from sklearn.metrics import SCORERS, mean_squared_error\n",
    "from sklearn.model_selection import GridSearchCV\n",
    "from imblearn.over_sampling import RandomOverSampler\n",
    "from imblearn.under_sampling import RandomUnderSampler\n",
    "from imblearn.pipeline import Pipeline\n",
    "\n",
    "\n",
    "if not sys.warnoptions:\n",
    "    warnings.simplefilter(\"ignore\")"
   ]
  },
  {
   "cell_type": "code",
   "execution_count": 13,
   "metadata": {},
   "outputs": [],
   "source": [
    "# create a new NN\n",
    "\n",
    "# classifiers\n",
    "reg_dict = {\n",
    "    'Linear Regression': LinearRegression(), \n",
    "    'Feed-Forward Neural Network': MLPRegressor(hidden_layer_sizes=(24, 24, 16))}\n",
    "\n",
    "# parameters for each classifier\n",
    "params_dict = {\n",
    "    'Linear Regression' : {},\n",
    "    'Feed-Forward Neural Network': {'clf__learning_rate_init':[0.0001,0.001, 0.001],\n",
    "                                    'clf__alpha':[0,0.0001,0.001]}}\n",
    "\n",
    "# best model with specific parameters for each classifier\n",
    "models_dict = {\n",
    "    'Linear Regression': None, \n",
    "    'Feed-Forward Neural Network': None}\n",
    "\n",
    "os = RandomOverSampler(0.3)\n",
    "us = RandomUnderSampler(0.4)"
   ]
  },
  {
   "cell_type": "code",
   "execution_count": null,
   "metadata": {},
   "outputs": [],
   "source": [
    "# perform parameter optimization on full cascades, for each clf, put resulting pipeline in models_dict\n",
    "        if c == '':\n",
    "\n",
    "            model = Pipeline([\n",
    "                ('oversample', RandomOverSampler(0.3)),\n",
    "                ('undersample', RandomUnderSampler(0.4)),\n",
    "                ('reg',reg)\n",
    "            ])\n",
    "\n",
    "            #params = params_dict[name]\n",
    "\n",
    "            #grid = GridSearchCV(model, params,  scoring='neg_mean_squared_error', cv=5)\n",
    "\n",
    "            #grid.fit(X_train, y_train)\n",
    "\n",
    "            #model = grid.best_estimator_\n",
    "\n",
    "            # store best model in model_dicts\n",
    "            models_dict[name] = model"
   ]
  },
  {
   "cell_type": "code",
   "execution_count": 35,
   "metadata": {
    "tags": []
   },
   "outputs": [
    {
     "output_type": "stream",
     "name": "stdout",
     "text": "started \n100%|██████████| 2/2 [00:01<00:00,  1.44it/s]started _half_hour\n\n100%|██████████| 2/2 [00:01<00:00,  1.39it/s]started _1_hour\n\n100%|██████████| 2/2 [00:01<00:00,  1.50it/s]started _2_hour\n\n100%|██████████| 2/2 [00:01<00:00,  1.47it/s]started _3_hour\n\n100%|██████████| 2/2 [00:01<00:00,  1.50it/s]\n"
    }
   ],
   "source": [
    "cnames = ['', '_half_hour', '_1_hour', '_2_hour', '_3_hour']\n",
    "\n",
    "crops, models, rmses, preds = [], [], [], []\n",
    "\n",
    "nmodels = len(models_dict)\n",
    "\n",
    "# loop through crops\n",
    "for c in cnames:\n",
    "    \n",
    "    print('started', c, flush=True)\n",
    "\n",
    "    df_train = pd.read_csv('../data/grouped' + c + '.csv').sample(frac=1)\n",
    "    df_test = pd.read_csv('../data/grouped' + c + '_test.csv').sample(frac=1)\n",
    "    \n",
    "    X_train, y_train = df_train.drop(['cascade_id', 'virality'], axis = 1).values, df_train.virality.values\n",
    "    X_test, y_test = df_test.drop(['cascade_id', 'virality'], axis = 1).values, df_test.virality.values\n",
    "    \n",
    "    pred = df_test[['cascade_id', 'virality', 'size', 'depth', 'breadth', 'db_ratio']]\n",
    "    # if no crop --> full\n",
    "    if c:\n",
    "        crops += [c[1:]] * nmodels\n",
    "    else:\n",
    "        crops += ['full'] * nmodels\n",
    "\n",
    "    for name, reg in tqdm(reg_dict.items()):\n",
    "\n",
    "        # fit model and predict for every crop\n",
    "        model = reg\n",
    "\n",
    "        model.fit(X_train, y_train)\n",
    "            \n",
    "        y_hat = model.predict(X_test)\n",
    "        pred['y_hat_'+name] = y_hat\n",
    "        rmse = mean_squared_error(y_test, y_hat)**.5\n",
    "\n",
    "        models.append(name)\n",
    "        rmses.append(rmse)\n",
    "    \n",
    "    preds.append(pred)\n",
    "\n",
    "results = pd.DataFrame({'crop':crops, 'model':models, 'mse':rmses})"
   ]
  },
  {
   "cell_type": "code",
   "execution_count": 40,
   "metadata": {},
   "outputs": [
    {
     "output_type": "execute_result",
     "data": {
      "text/plain": "     cascade_id  virality      size     depth   breadth  db_ratio  \\\n309       82826  2.593907 -0.418494  0.309529 -0.409744  0.194321   \n66        81033  2.434190 -0.512840 -0.511845 -0.517626  0.155999   \n8         80337  2.402772 -0.472924 -0.511845 -0.483104  0.131818   \n127       81489  2.563221 -0.393093 -0.511845 -0.427006  0.114239   \n141       81576  2.170877  0.202009 -0.511845  0.276385  0.086824   \n..          ...       ...       ...       ...       ...       ...   \n278       82634  2.861889 -0.222546 -0.511845 -0.172404  0.093676   \n128       81495  2.624806  0.020575  0.309529 -0.073152  0.120293   \n101       81244  3.086743 -0.494696  0.309529 -0.530572  0.422097   \n175       81817  2.065178 -0.182631 -1.333219 -0.116305  0.060305   \n75        81083  2.494505 -0.429380 -0.511845 -0.427006  0.114239   \n\n     y_hat_Linear Regression  y_testLinear Regression  \\\n309                 2.874073                 2.593907   \n66                  3.036310                 2.434190   \n8                   2.663197                 2.402772   \n127                 2.719265                 2.563221   \n141                 2.479358                 2.170877   \n..                       ...                      ...   \n278                 2.667467                 2.861889   \n128                 2.922311                 2.624806   \n101                 3.059380                 3.086743   \n175                 2.259117                 2.065178   \n75                  2.693604                 2.494505   \n\n     y_hat_Feed-Forward Neural Network  y_testFeed-Forward Neural Network  \n309                           3.154770                           2.593907  \n66                            3.474894                           2.434190  \n8                             2.818196                           2.402772  \n127                           2.536084                           2.563221  \n141                           2.096289                           2.170877  \n..                                 ...                                ...  \n278                           2.654035                           2.861889  \n128                           2.555308                           2.624806  \n101                           3.206630                           3.086743  \n175                           2.382395                           2.065178  \n75                            2.633435                           2.494505  \n\n[324 rows x 10 columns]",
      "text/html": "<div>\n<style scoped>\n    .dataframe tbody tr th:only-of-type {\n        vertical-align: middle;\n    }\n\n    .dataframe tbody tr th {\n        vertical-align: top;\n    }\n\n    .dataframe thead th {\n        text-align: right;\n    }\n</style>\n<table border=\"1\" class=\"dataframe\">\n  <thead>\n    <tr style=\"text-align: right;\">\n      <th></th>\n      <th>cascade_id</th>\n      <th>virality</th>\n      <th>size</th>\n      <th>depth</th>\n      <th>breadth</th>\n      <th>db_ratio</th>\n      <th>y_hat_Linear Regression</th>\n      <th>y_testLinear Regression</th>\n      <th>y_hat_Feed-Forward Neural Network</th>\n      <th>y_testFeed-Forward Neural Network</th>\n    </tr>\n  </thead>\n  <tbody>\n    <tr>\n      <th>309</th>\n      <td>82826</td>\n      <td>2.593907</td>\n      <td>-0.418494</td>\n      <td>0.309529</td>\n      <td>-0.409744</td>\n      <td>0.194321</td>\n      <td>2.874073</td>\n      <td>2.593907</td>\n      <td>3.154770</td>\n      <td>2.593907</td>\n    </tr>\n    <tr>\n      <th>66</th>\n      <td>81033</td>\n      <td>2.434190</td>\n      <td>-0.512840</td>\n      <td>-0.511845</td>\n      <td>-0.517626</td>\n      <td>0.155999</td>\n      <td>3.036310</td>\n      <td>2.434190</td>\n      <td>3.474894</td>\n      <td>2.434190</td>\n    </tr>\n    <tr>\n      <th>8</th>\n      <td>80337</td>\n      <td>2.402772</td>\n      <td>-0.472924</td>\n      <td>-0.511845</td>\n      <td>-0.483104</td>\n      <td>0.131818</td>\n      <td>2.663197</td>\n      <td>2.402772</td>\n      <td>2.818196</td>\n      <td>2.402772</td>\n    </tr>\n    <tr>\n      <th>127</th>\n      <td>81489</td>\n      <td>2.563221</td>\n      <td>-0.393093</td>\n      <td>-0.511845</td>\n      <td>-0.427006</td>\n      <td>0.114239</td>\n      <td>2.719265</td>\n      <td>2.563221</td>\n      <td>2.536084</td>\n      <td>2.563221</td>\n    </tr>\n    <tr>\n      <th>141</th>\n      <td>81576</td>\n      <td>2.170877</td>\n      <td>0.202009</td>\n      <td>-0.511845</td>\n      <td>0.276385</td>\n      <td>0.086824</td>\n      <td>2.479358</td>\n      <td>2.170877</td>\n      <td>2.096289</td>\n      <td>2.170877</td>\n    </tr>\n    <tr>\n      <th>...</th>\n      <td>...</td>\n      <td>...</td>\n      <td>...</td>\n      <td>...</td>\n      <td>...</td>\n      <td>...</td>\n      <td>...</td>\n      <td>...</td>\n      <td>...</td>\n      <td>...</td>\n    </tr>\n    <tr>\n      <th>278</th>\n      <td>82634</td>\n      <td>2.861889</td>\n      <td>-0.222546</td>\n      <td>-0.511845</td>\n      <td>-0.172404</td>\n      <td>0.093676</td>\n      <td>2.667467</td>\n      <td>2.861889</td>\n      <td>2.654035</td>\n      <td>2.861889</td>\n    </tr>\n    <tr>\n      <th>128</th>\n      <td>81495</td>\n      <td>2.624806</td>\n      <td>0.020575</td>\n      <td>0.309529</td>\n      <td>-0.073152</td>\n      <td>0.120293</td>\n      <td>2.922311</td>\n      <td>2.624806</td>\n      <td>2.555308</td>\n      <td>2.624806</td>\n    </tr>\n    <tr>\n      <th>101</th>\n      <td>81244</td>\n      <td>3.086743</td>\n      <td>-0.494696</td>\n      <td>0.309529</td>\n      <td>-0.530572</td>\n      <td>0.422097</td>\n      <td>3.059380</td>\n      <td>3.086743</td>\n      <td>3.206630</td>\n      <td>3.086743</td>\n    </tr>\n    <tr>\n      <th>175</th>\n      <td>81817</td>\n      <td>2.065178</td>\n      <td>-0.182631</td>\n      <td>-1.333219</td>\n      <td>-0.116305</td>\n      <td>0.060305</td>\n      <td>2.259117</td>\n      <td>2.065178</td>\n      <td>2.382395</td>\n      <td>2.065178</td>\n    </tr>\n    <tr>\n      <th>75</th>\n      <td>81083</td>\n      <td>2.494505</td>\n      <td>-0.429380</td>\n      <td>-0.511845</td>\n      <td>-0.427006</td>\n      <td>0.114239</td>\n      <td>2.693604</td>\n      <td>2.494505</td>\n      <td>2.633435</td>\n      <td>2.494505</td>\n    </tr>\n  </tbody>\n</table>\n<p>324 rows × 10 columns</p>\n</div>"
     },
     "metadata": {},
     "execution_count": 40
    }
   ],
   "source": [
    "preds[1]"
   ]
  },
  {
   "cell_type": "code",
   "execution_count": 41,
   "metadata": {},
   "outputs": [
    {
     "output_type": "execute_result",
     "data": {
      "text/plain": "crop                           1_hour    2_hour    3_hour      full  half_hour\nmodel                                                                         \nFeed-Forward Neural Network  0.363669  0.242976  0.269759  0.089480   0.416909\nLinear Regression            0.470234  0.425475  0.385814  0.134727   0.485630",
      "text/html": "<div>\n<style scoped>\n    .dataframe tbody tr th:only-of-type {\n        vertical-align: middle;\n    }\n\n    .dataframe tbody tr th {\n        vertical-align: top;\n    }\n\n    .dataframe thead th {\n        text-align: right;\n    }\n</style>\n<table border=\"1\" class=\"dataframe\">\n  <thead>\n    <tr style=\"text-align: right;\">\n      <th>crop</th>\n      <th>1_hour</th>\n      <th>2_hour</th>\n      <th>3_hour</th>\n      <th>full</th>\n      <th>half_hour</th>\n    </tr>\n    <tr>\n      <th>model</th>\n      <th></th>\n      <th></th>\n      <th></th>\n      <th></th>\n      <th></th>\n    </tr>\n  </thead>\n  <tbody>\n    <tr>\n      <th>Feed-Forward Neural Network</th>\n      <td>0.363669</td>\n      <td>0.242976</td>\n      <td>0.269759</td>\n      <td>0.089480</td>\n      <td>0.416909</td>\n    </tr>\n    <tr>\n      <th>Linear Regression</th>\n      <td>0.470234</td>\n      <td>0.425475</td>\n      <td>0.385814</td>\n      <td>0.134727</td>\n      <td>0.485630</td>\n    </tr>\n  </tbody>\n</table>\n</div>"
     },
     "metadata": {},
     "execution_count": 41
    }
   ],
   "source": [
    "# print MSE\n",
    "(results\n",
    ".groupby(['model', 'crop'])\n",
    ".agg({'mse':'mean'})\n",
    ".reset_index()\n",
    ".pivot(index='model',columns='crop',values='mse'))"
   ]
  },
  {
   "cell_type": "code",
   "execution_count": 17,
   "metadata": {},
   "outputs": [],
   "source": [
    "# store results\n",
    "results.to_csv('../data/test_material/baselines_v2.csv', header=True, index=False)"
   ]
  }
 ],
 "metadata": {
  "kernelspec": {
   "display_name": "Python 3",
   "language": "python",
   "name": "python3"
  },
  "language_info": {
   "codemirror_mode": {
    "name": "ipython",
    "version": 3
   },
   "file_extension": ".py",
   "mimetype": "text/x-python",
   "name": "python",
   "nbconvert_exporter": "python",
   "pygments_lexer": "ipython3",
   "version": "3.8.2-final"
  }
 },
 "nbformat": 4,
 "nbformat_minor": 2
}