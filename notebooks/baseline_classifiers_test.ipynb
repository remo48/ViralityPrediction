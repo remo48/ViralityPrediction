{
 "cells": [
  {
   "cell_type": "code",
   "execution_count": 14,
   "metadata": {},
   "outputs": [],
   "source": [
    "import sys, warnings\n",
    "sys.path.append('../code/')\n",
    "import pandas as pd\n",
    "import numpy as np\n",
    "from tqdm import tqdm\n",
    "from random import shuffle\n",
    "import matplotlib.pyplot as plt\n",
    "from sklearn.model_selection import train_test_split\n",
    "from sklearn.ensemble import RandomForestRegressor\n",
    "from sklearn.linear_model import LinearRegression, Ridge\n",
    "from sklearn.neural_network import MLPRegressor\n",
    "from sklearn.metrics import SCORERS, mean_squared_error, median_absolute_error\n",
    "from sklearn.model_selection import GridSearchCV\n",
    "from sklearn.dummy import DummyRegressor\n",
    "\n",
    "\n",
    "if not sys.warnoptions:\n",
    "    warnings.simplefilter(\"ignore\")"
   ]
  },
  {
   "cell_type": "code",
   "execution_count": 15,
   "metadata": {},
   "outputs": [],
   "source": [
    "# create a new NN\n",
    "\n",
    "# classifiers\n",
    "reg_dict = {\n",
    "    'Linear Regression': LinearRegression(), \n",
    "    'Feed-Forward Neural Network': MLPRegressor(max_iter=500),\n",
    "    'Random Forest Regressor': RandomForestRegressor(),\n",
    "    'Dummy Regressor (Mean)': DummyRegressor(strategy='mean')}\n",
    "\n",
    "# parameters for each classifier\n",
    "params_dict = {\n",
    "    'Linear Regression' : {},\n",
    "    'Feed-Forward Neural Network': {'hidden_layer_sizes': [(16,16), (16, 32, 16)],\n",
    "                                    'activation': ['relu','tanh'],\n",
    "                                    'alpha': [0.0001, 0.05]},\n",
    "    'Random Forest Regressor': {},\n",
    "    'Dummy Regressor (Mean)': {}}\n",
    "\n",
    "# best model with specific parameters for each classifier\n",
    "models_dict = {\n",
    "    'Linear Regression': None, \n",
    "    'Feed-Forward Neural Network': None,\n",
    "    'Random Forest Regressor': None,\n",
    "    'Dummy Regressor (Mean)': None}"
   ]
  },
  {
   "cell_type": "code",
   "execution_count": 16,
   "metadata": {
    "tags": []
   },
   "outputs": [
    {
     "output_type": "stream",
     "name": "stdout",
     "text": [
      "started _1_hour\n",
      "100%|██████████| 4/4 [01:37<00:00, 24.48s/it]started _15_mins\n",
      "\n",
      "100%|██████████| 4/4 [00:07<00:00,  1.77s/it]started _30_mins\n",
      "\n",
      "100%|██████████| 4/4 [00:05<00:00,  1.33s/it]started _3_hour\n",
      "\n",
      "100%|██████████| 4/4 [00:06<00:00,  1.52s/it]started _24_hour\n",
      "\n",
      "100%|██████████| 4/4 [00:06<00:00,  1.54s/it]\n"
     ]
    }
   ],
   "source": [
    "cnames = ['_1_hour', '_15_mins', '_30_mins', '_3_hour', '_24_hour']\n",
    "\n",
    "crops, lin_crops,  models, mses, maes, coefs, feature_names = [], [], [], [], [], [], []\n",
    "preds = {}\n",
    "\n",
    "nmodels = len(models_dict)\n",
    "df_cascade_sizes = pd.read_csv('../data/cascade_size.csv')\n",
    "\n",
    "# loop through crops\n",
    "for c in cnames:\n",
    "    \n",
    "    print('started', c, flush=True)\n",
    "\n",
    "    df_train = pd.read_csv('../data/grouped/grouped' + c + '.csv')\n",
    "    df_test = pd.read_csv('../data/grouped/grouped' + c + '_test.csv')\n",
    "    \n",
    "    X_train, X_test = df_train.iloc[:,1:].values, df_test.iloc[:,1:].values\n",
    "    y_train = pd.merge(df_train, df_cascade_sizes, on='cascade_id', how='left')['cascade_size_log'].values\n",
    "    y_test = pd.merge(df_test, df_cascade_sizes, on='cascade_id', how='left')['cascade_size_log'].values\n",
    "\n",
    "    feature_name = df_train.columns.to_list()[1:]\n",
    "    feature_names += feature_name\n",
    "    \n",
    "    pred = pd.merge(df_test, df_cascade_sizes, on='cascade_id', how='left')[['cascade_id', 'cascade_size_log']]\n",
    "\n",
    "    # if no crop --> full\n",
    "    crop = ''\n",
    "    if c:\n",
    "        crop = [c[1:]]\n",
    "        crops += crop* nmodels\n",
    "        lin_crops += crop * len(feature_name)\n",
    "    else:\n",
    "        crop = ['full']\n",
    "        crops += crop * nmodels\n",
    "        lin_crops += crop * len(feature_name)\n",
    "\n",
    "    for name, reg in tqdm(reg_dict.items()):\n",
    "        if c == '_1_hour':\n",
    "\n",
    "            model = reg\n",
    "\n",
    "            params = params_dict[name]\n",
    "\n",
    "            grid = GridSearchCV(model, params,  scoring='neg_mean_squared_error', cv=5, n_jobs=-1)\n",
    "\n",
    "            grid.fit(X_train, y_train)\n",
    "\n",
    "            model = grid.best_estimator_\n",
    "\n",
    "            # store best model in model_dicts\n",
    "            models_dict[name] = model\n",
    "\n",
    "        # fit model and predict for every crop\n",
    "        model = models_dict[name]\n",
    "\n",
    "        model.fit(X_train, y_train)\n",
    "            \n",
    "        y_hat = model.predict(X_test)\n",
    "        pred['y_hat_'+name] = y_hat\n",
    "        mse = mean_squared_error(y_test, y_hat)\n",
    "        mae = median_absolute_error(y_test, y_hat)\n",
    "\n",
    "        models.append(name)\n",
    "        mses.append(mse)\n",
    "        maes.append(mae)\n",
    "\n",
    "        if name == 'Linear Regression':\n",
    "            coefs += model.coef_.tolist()\n",
    "\n",
    "    \n",
    "    preds[crop[0]] = pred \n",
    "\n",
    "results = pd.DataFrame({'crop':crops, 'model':models, 'mse':mses, 'mae':maes})\n",
    "coefficients = pd.DataFrame({'crop':lin_crops, 'coef':coefs, 'feature_name':feature_names})"
   ]
  },
  {
   "cell_type": "code",
   "execution_count": 18,
   "metadata": {},
   "outputs": [],
   "source": [
    "preds['1_hour'].to_csv('../results/preds2.csv', index=False, header=True)"
   ]
  },
  {
   "cell_type": "code",
   "execution_count": 9,
   "metadata": {},
   "outputs": [
    {
     "output_type": "execute_result",
     "data": {
      "text/plain": [
       "<pandas.io.formats.style.Styler at 0x7f90890d1670>"
      ],
      "text/html": "<style  type=\"text/css\" >\n</style><table id=\"T_cf91bb78_45bf_11eb_aa17_63e37261321a\" ><thead>    <tr>        <th class=\"index_name level0\" >crop</th>        <th class=\"col_heading level0 col0\" >15_mins</th>        <th class=\"col_heading level0 col1\" >1_hour</th>        <th class=\"col_heading level0 col2\" >24_hour</th>        <th class=\"col_heading level0 col3\" >30_mins</th>        <th class=\"col_heading level0 col4\" >3_hour</th>    </tr>    <tr>        <th class=\"index_name level0\" >model</th>        <th class=\"blank\" ></th>        <th class=\"blank\" ></th>        <th class=\"blank\" ></th>        <th class=\"blank\" ></th>        <th class=\"blank\" ></th>    </tr></thead><tbody>\n                <tr>\n                        <th id=\"T_cf91bb78_45bf_11eb_aa17_63e37261321alevel0_row0\" class=\"row_heading level0 row0\" >Dummy Regressor (Mean)</th>\n                        <td id=\"T_cf91bb78_45bf_11eb_aa17_63e37261321arow0_col0\" class=\"data row0 col0\" >1.1749</td>\n                        <td id=\"T_cf91bb78_45bf_11eb_aa17_63e37261321arow0_col1\" class=\"data row0 col1\" >1.1830</td>\n                        <td id=\"T_cf91bb78_45bf_11eb_aa17_63e37261321arow0_col2\" class=\"data row0 col2\" >1.2413</td>\n                        <td id=\"T_cf91bb78_45bf_11eb_aa17_63e37261321arow0_col3\" class=\"data row0 col3\" >1.3517</td>\n                        <td id=\"T_cf91bb78_45bf_11eb_aa17_63e37261321arow0_col4\" class=\"data row0 col4\" >1.3340</td>\n            </tr>\n            <tr>\n                        <th id=\"T_cf91bb78_45bf_11eb_aa17_63e37261321alevel0_row1\" class=\"row_heading level0 row1\" >Feed-Forward Neural Network</th>\n                        <td id=\"T_cf91bb78_45bf_11eb_aa17_63e37261321arow1_col0\" class=\"data row1 col0\" >0.5069</td>\n                        <td id=\"T_cf91bb78_45bf_11eb_aa17_63e37261321arow1_col1\" class=\"data row1 col1\" >0.5363</td>\n                        <td id=\"T_cf91bb78_45bf_11eb_aa17_63e37261321arow1_col2\" class=\"data row1 col2\" >0.2388</td>\n                        <td id=\"T_cf91bb78_45bf_11eb_aa17_63e37261321arow1_col3\" class=\"data row1 col3\" >0.6357</td>\n                        <td id=\"T_cf91bb78_45bf_11eb_aa17_63e37261321arow1_col4\" class=\"data row1 col4\" >0.5399</td>\n            </tr>\n            <tr>\n                        <th id=\"T_cf91bb78_45bf_11eb_aa17_63e37261321alevel0_row2\" class=\"row_heading level0 row2\" >Linear Regression</th>\n                        <td id=\"T_cf91bb78_45bf_11eb_aa17_63e37261321arow2_col0\" class=\"data row2 col0\" >0.5686</td>\n                        <td id=\"T_cf91bb78_45bf_11eb_aa17_63e37261321arow2_col1\" class=\"data row2 col1\" >0.6165</td>\n                        <td id=\"T_cf91bb78_45bf_11eb_aa17_63e37261321arow2_col2\" class=\"data row2 col2\" >0.3749</td>\n                        <td id=\"T_cf91bb78_45bf_11eb_aa17_63e37261321arow2_col3\" class=\"data row2 col3\" >0.7279</td>\n                        <td id=\"T_cf91bb78_45bf_11eb_aa17_63e37261321arow2_col4\" class=\"data row2 col4\" >0.6494</td>\n            </tr>\n            <tr>\n                        <th id=\"T_cf91bb78_45bf_11eb_aa17_63e37261321alevel0_row3\" class=\"row_heading level0 row3\" >Random Forest Regressor</th>\n                        <td id=\"T_cf91bb78_45bf_11eb_aa17_63e37261321arow3_col0\" class=\"data row3 col0\" >0.4737</td>\n                        <td id=\"T_cf91bb78_45bf_11eb_aa17_63e37261321arow3_col1\" class=\"data row3 col1\" >0.5573</td>\n                        <td id=\"T_cf91bb78_45bf_11eb_aa17_63e37261321arow3_col2\" class=\"data row3 col2\" >0.2815</td>\n                        <td id=\"T_cf91bb78_45bf_11eb_aa17_63e37261321arow3_col3\" class=\"data row3 col3\" >0.5509</td>\n                        <td id=\"T_cf91bb78_45bf_11eb_aa17_63e37261321arow3_col4\" class=\"data row3 col4\" >0.5290</td>\n            </tr>\n    </tbody></table>"
     },
     "metadata": {},
     "execution_count": 9
    }
   ],
   "source": [
    "# print MSE\n",
    "(results\n",
    ".groupby(['model', 'crop'])\n",
    ".agg({'mse':'mean'})\n",
    ".reset_index()\n",
    ".pivot(index='model',columns='crop',values='mse')\n",
    ".style.format('{:.4f}'))"
   ]
  },
  {
   "cell_type": "code",
   "execution_count": 13,
   "metadata": {},
   "outputs": [
    {
     "output_type": "execute_result",
     "data": {
      "text/plain": [
       "<pandas.io.formats.style.Styler at 0x7f9089024760>"
      ],
      "text/html": "<style  type=\"text/css\" >\n</style><table id=\"T_66bf3a52_45c5_11eb_aa17_63e37261321a\" ><thead>    <tr>        <th class=\"index_name level0\" >crop</th>        <th class=\"col_heading level0 col0\" >15_mins</th>        <th class=\"col_heading level0 col1\" >1_hour</th>        <th class=\"col_heading level0 col2\" >24_hour</th>        <th class=\"col_heading level0 col3\" >30_mins</th>        <th class=\"col_heading level0 col4\" >3_hour</th>    </tr>    <tr>        <th class=\"index_name level0\" >model</th>        <th class=\"blank\" ></th>        <th class=\"blank\" ></th>        <th class=\"blank\" ></th>        <th class=\"blank\" ></th>        <th class=\"blank\" ></th>    </tr></thead><tbody>\n                <tr>\n                        <th id=\"T_66bf3a52_45c5_11eb_aa17_63e37261321alevel0_row0\" class=\"row_heading level0 row0\" >Dummy Regressor (Mean)</th>\n                        <td id=\"T_66bf3a52_45c5_11eb_aa17_63e37261321arow0_col0\" class=\"data row0 col0\" >0.8663</td>\n                        <td id=\"T_66bf3a52_45c5_11eb_aa17_63e37261321arow0_col1\" class=\"data row0 col1\" >0.8505</td>\n                        <td id=\"T_66bf3a52_45c5_11eb_aa17_63e37261321arow0_col2\" class=\"data row0 col2\" >0.8253</td>\n                        <td id=\"T_66bf3a52_45c5_11eb_aa17_63e37261321arow0_col3\" class=\"data row0 col3\" >0.9004</td>\n                        <td id=\"T_66bf3a52_45c5_11eb_aa17_63e37261321arow0_col4\" class=\"data row0 col4\" >0.7926</td>\n            </tr>\n            <tr>\n                        <th id=\"T_66bf3a52_45c5_11eb_aa17_63e37261321alevel0_row1\" class=\"row_heading level0 row1\" >Feed-Forward Neural Network</th>\n                        <td id=\"T_66bf3a52_45c5_11eb_aa17_63e37261321arow1_col0\" class=\"data row1 col0\" >0.4674</td>\n                        <td id=\"T_66bf3a52_45c5_11eb_aa17_63e37261321arow1_col1\" class=\"data row1 col1\" >0.3930</td>\n                        <td id=\"T_66bf3a52_45c5_11eb_aa17_63e37261321arow1_col2\" class=\"data row1 col2\" >0.1869</td>\n                        <td id=\"T_66bf3a52_45c5_11eb_aa17_63e37261321arow1_col3\" class=\"data row1 col3\" >0.4105</td>\n                        <td id=\"T_66bf3a52_45c5_11eb_aa17_63e37261321arow1_col4\" class=\"data row1 col4\" >0.3824</td>\n            </tr>\n            <tr>\n                        <th id=\"T_66bf3a52_45c5_11eb_aa17_63e37261321alevel0_row2\" class=\"row_heading level0 row2\" >Linear Regression</th>\n                        <td id=\"T_66bf3a52_45c5_11eb_aa17_63e37261321arow2_col0\" class=\"data row2 col0\" >0.4853</td>\n                        <td id=\"T_66bf3a52_45c5_11eb_aa17_63e37261321arow2_col1\" class=\"data row2 col1\" >0.4677</td>\n                        <td id=\"T_66bf3a52_45c5_11eb_aa17_63e37261321arow2_col2\" class=\"data row2 col2\" >0.3081</td>\n                        <td id=\"T_66bf3a52_45c5_11eb_aa17_63e37261321arow2_col3\" class=\"data row2 col3\" >0.5023</td>\n                        <td id=\"T_66bf3a52_45c5_11eb_aa17_63e37261321arow2_col4\" class=\"data row2 col4\" >0.4489</td>\n            </tr>\n            <tr>\n                        <th id=\"T_66bf3a52_45c5_11eb_aa17_63e37261321alevel0_row3\" class=\"row_heading level0 row3\" >Random Forest Regressor</th>\n                        <td id=\"T_66bf3a52_45c5_11eb_aa17_63e37261321arow3_col0\" class=\"data row3 col0\" >0.4561</td>\n                        <td id=\"T_66bf3a52_45c5_11eb_aa17_63e37261321arow3_col1\" class=\"data row3 col1\" >0.4318</td>\n                        <td id=\"T_66bf3a52_45c5_11eb_aa17_63e37261321arow3_col2\" class=\"data row3 col2\" >0.1745</td>\n                        <td id=\"T_66bf3a52_45c5_11eb_aa17_63e37261321arow3_col3\" class=\"data row3 col3\" >0.4181</td>\n                        <td id=\"T_66bf3a52_45c5_11eb_aa17_63e37261321arow3_col4\" class=\"data row3 col4\" >0.3287</td>\n            </tr>\n    </tbody></table>"
     },
     "metadata": {},
     "execution_count": 13
    }
   ],
   "source": [
    "# print MAE\n",
    "(results\n",
    ".groupby(['model', 'crop'])\n",
    ".agg({'mae':'median'})\n",
    ".reset_index()\n",
    ".pivot(index='model',columns='crop',values='mae')\n",
    ".style.format('{:.4f}'))"
   ]
  },
  {
   "cell_type": "code",
   "execution_count": 18,
   "metadata": {},
   "outputs": [
    {
     "output_type": "error",
     "ename": "KeyError",
     "evalue": "'feature_name'",
     "traceback": [
      "\u001b[0;31m---------------------------------------------------------------------------\u001b[0m",
      "\u001b[0;31mKeyError\u001b[0m                                  Traceback (most recent call last)",
      "\u001b[0;32m~/.local/lib/python3.8/site-packages/pandas/core/indexes/base.py\u001b[0m in \u001b[0;36mget_loc\u001b[0;34m(self, key, method, tolerance)\u001b[0m\n\u001b[1;32m   2888\u001b[0m             \u001b[0;32mtry\u001b[0m\u001b[0;34m:\u001b[0m\u001b[0;34m\u001b[0m\u001b[0;34m\u001b[0m\u001b[0m\n\u001b[0;32m-> 2889\u001b[0;31m                 \u001b[0;32mreturn\u001b[0m \u001b[0mself\u001b[0m\u001b[0;34m.\u001b[0m\u001b[0m_engine\u001b[0m\u001b[0;34m.\u001b[0m\u001b[0mget_loc\u001b[0m\u001b[0;34m(\u001b[0m\u001b[0mcasted_key\u001b[0m\u001b[0;34m)\u001b[0m\u001b[0;34m\u001b[0m\u001b[0;34m\u001b[0m\u001b[0m\n\u001b[0m\u001b[1;32m   2890\u001b[0m             \u001b[0;32mexcept\u001b[0m \u001b[0mKeyError\u001b[0m \u001b[0;32mas\u001b[0m \u001b[0merr\u001b[0m\u001b[0;34m:\u001b[0m\u001b[0;34m\u001b[0m\u001b[0;34m\u001b[0m\u001b[0m\n",
      "\u001b[0;32mpandas/_libs/index.pyx\u001b[0m in \u001b[0;36mpandas._libs.index.IndexEngine.get_loc\u001b[0;34m()\u001b[0m\n",
      "\u001b[0;32mpandas/_libs/index.pyx\u001b[0m in \u001b[0;36mpandas._libs.index.IndexEngine.get_loc\u001b[0;34m()\u001b[0m\n",
      "\u001b[0;32mpandas/_libs/hashtable_class_helper.pxi\u001b[0m in \u001b[0;36mpandas._libs.hashtable.PyObjectHashTable.get_item\u001b[0;34m()\u001b[0m\n",
      "\u001b[0;32mpandas/_libs/hashtable_class_helper.pxi\u001b[0m in \u001b[0;36mpandas._libs.hashtable.PyObjectHashTable.get_item\u001b[0;34m()\u001b[0m\n",
      "\u001b[0;31mKeyError\u001b[0m: 'feature_name'",
      "\nThe above exception was the direct cause of the following exception:\n",
      "\u001b[0;31mKeyError\u001b[0m                                  Traceback (most recent call last)",
      "\u001b[0;32m<ipython-input-18-78d4a2b8c640>\u001b[0m in \u001b[0;36m<module>\u001b[0;34m\u001b[0m\n\u001b[0;32m----> 1\u001b[0;31m \u001b[0mcoefficients\u001b[0m \u001b[0;34m=\u001b[0m \u001b[0mcoefficients\u001b[0m\u001b[0;34m.\u001b[0m\u001b[0mpivot\u001b[0m\u001b[0;34m(\u001b[0m\u001b[0mindex\u001b[0m\u001b[0;34m=\u001b[0m\u001b[0;34m'feature_name'\u001b[0m\u001b[0;34m,\u001b[0m \u001b[0mcolumns\u001b[0m\u001b[0;34m=\u001b[0m\u001b[0;34m'crop'\u001b[0m\u001b[0;34m,\u001b[0m \u001b[0mvalues\u001b[0m\u001b[0;34m=\u001b[0m\u001b[0;34m'coef'\u001b[0m\u001b[0;34m)\u001b[0m\u001b[0;34m\u001b[0m\u001b[0;34m\u001b[0m\u001b[0m\n\u001b[0m\u001b[1;32m      2\u001b[0m \u001b[0mcoefficients\u001b[0m\u001b[0;34m[\u001b[0m\u001b[0;34m'1_hour'\u001b[0m\u001b[0;34m]\u001b[0m\u001b[0;34m.\u001b[0m\u001b[0mplot\u001b[0m\u001b[0;34m(\u001b[0m\u001b[0mkind\u001b[0m\u001b[0;34m=\u001b[0m\u001b[0;34m'barh'\u001b[0m\u001b[0;34m,\u001b[0m \u001b[0mfigsize\u001b[0m\u001b[0;34m=\u001b[0m\u001b[0;34m(\u001b[0m\u001b[0;36m9\u001b[0m\u001b[0;34m,\u001b[0m \u001b[0;36m7\u001b[0m\u001b[0;34m)\u001b[0m\u001b[0;34m)\u001b[0m\u001b[0;34m\u001b[0m\u001b[0;34m\u001b[0m\u001b[0m\n\u001b[1;32m      3\u001b[0m \u001b[0mplt\u001b[0m\u001b[0;34m.\u001b[0m\u001b[0mtitle\u001b[0m\u001b[0;34m(\u001b[0m\u001b[0;34m'Coefficients of linear model'\u001b[0m\u001b[0;34m)\u001b[0m\u001b[0;34m\u001b[0m\u001b[0;34m\u001b[0m\u001b[0m\n\u001b[1;32m      4\u001b[0m \u001b[0mplt\u001b[0m\u001b[0;34m.\u001b[0m\u001b[0maxvline\u001b[0m\u001b[0;34m(\u001b[0m\u001b[0mx\u001b[0m\u001b[0;34m=\u001b[0m\u001b[0;36m0\u001b[0m\u001b[0;34m,\u001b[0m \u001b[0mcolor\u001b[0m\u001b[0;34m=\u001b[0m\u001b[0;34m'.5'\u001b[0m\u001b[0;34m)\u001b[0m\u001b[0;34m\u001b[0m\u001b[0;34m\u001b[0m\u001b[0m\n\u001b[1;32m      5\u001b[0m \u001b[0mplt\u001b[0m\u001b[0;34m.\u001b[0m\u001b[0msubplots_adjust\u001b[0m\u001b[0;34m(\u001b[0m\u001b[0mleft\u001b[0m\u001b[0;34m=\u001b[0m\u001b[0;36m.3\u001b[0m\u001b[0;34m)\u001b[0m\u001b[0;34m\u001b[0m\u001b[0;34m\u001b[0m\u001b[0m\n",
      "\u001b[0;32m~/.local/lib/python3.8/site-packages/pandas/core/frame.py\u001b[0m in \u001b[0;36mpivot\u001b[0;34m(self, index, columns, values)\u001b[0m\n\u001b[1;32m   6669\u001b[0m         \u001b[0;32mfrom\u001b[0m \u001b[0mpandas\u001b[0m\u001b[0;34m.\u001b[0m\u001b[0mcore\u001b[0m\u001b[0;34m.\u001b[0m\u001b[0mreshape\u001b[0m\u001b[0;34m.\u001b[0m\u001b[0mpivot\u001b[0m \u001b[0;32mimport\u001b[0m \u001b[0mpivot\u001b[0m\u001b[0;34m\u001b[0m\u001b[0;34m\u001b[0m\u001b[0m\n\u001b[1;32m   6670\u001b[0m \u001b[0;34m\u001b[0m\u001b[0m\n\u001b[0;32m-> 6671\u001b[0;31m         \u001b[0;32mreturn\u001b[0m \u001b[0mpivot\u001b[0m\u001b[0;34m(\u001b[0m\u001b[0mself\u001b[0m\u001b[0;34m,\u001b[0m \u001b[0mindex\u001b[0m\u001b[0;34m=\u001b[0m\u001b[0mindex\u001b[0m\u001b[0;34m,\u001b[0m \u001b[0mcolumns\u001b[0m\u001b[0;34m=\u001b[0m\u001b[0mcolumns\u001b[0m\u001b[0;34m,\u001b[0m \u001b[0mvalues\u001b[0m\u001b[0;34m=\u001b[0m\u001b[0mvalues\u001b[0m\u001b[0;34m)\u001b[0m\u001b[0;34m\u001b[0m\u001b[0;34m\u001b[0m\u001b[0m\n\u001b[0m\u001b[1;32m   6672\u001b[0m \u001b[0;34m\u001b[0m\u001b[0m\n\u001b[1;32m   6673\u001b[0m     _shared_docs[\n",
      "\u001b[0;32m~/.local/lib/python3.8/site-packages/pandas/core/reshape/pivot.py\u001b[0m in \u001b[0;36mpivot\u001b[0;34m(data, index, columns, values)\u001b[0m\n\u001b[1;32m    461\u001b[0m         \u001b[0;32melse\u001b[0m\u001b[0;34m:\u001b[0m\u001b[0;34m\u001b[0m\u001b[0;34m\u001b[0m\u001b[0m\n\u001b[1;32m    462\u001b[0m             \u001b[0mindex\u001b[0m \u001b[0;34m=\u001b[0m \u001b[0mcom\u001b[0m\u001b[0;34m.\u001b[0m\u001b[0mconvert_to_list_like\u001b[0m\u001b[0;34m(\u001b[0m\u001b[0mindex\u001b[0m\u001b[0;34m)\u001b[0m\u001b[0;34m\u001b[0m\u001b[0;34m\u001b[0m\u001b[0m\n\u001b[0;32m--> 463\u001b[0;31m             \u001b[0mindex\u001b[0m \u001b[0;34m=\u001b[0m \u001b[0;34m[\u001b[0m\u001b[0mdata\u001b[0m\u001b[0;34m[\u001b[0m\u001b[0midx\u001b[0m\u001b[0;34m]\u001b[0m \u001b[0;32mfor\u001b[0m \u001b[0midx\u001b[0m \u001b[0;32min\u001b[0m \u001b[0mindex\u001b[0m\u001b[0;34m]\u001b[0m\u001b[0;34m\u001b[0m\u001b[0;34m\u001b[0m\u001b[0m\n\u001b[0m\u001b[1;32m    464\u001b[0m \u001b[0;34m\u001b[0m\u001b[0m\n\u001b[1;32m    465\u001b[0m         \u001b[0mdata_columns\u001b[0m \u001b[0;34m=\u001b[0m \u001b[0;34m[\u001b[0m\u001b[0mdata\u001b[0m\u001b[0;34m[\u001b[0m\u001b[0mcol\u001b[0m\u001b[0;34m]\u001b[0m \u001b[0;32mfor\u001b[0m \u001b[0mcol\u001b[0m \u001b[0;32min\u001b[0m \u001b[0mcolumns\u001b[0m\u001b[0;34m]\u001b[0m\u001b[0;34m\u001b[0m\u001b[0;34m\u001b[0m\u001b[0m\n",
      "\u001b[0;32m~/.local/lib/python3.8/site-packages/pandas/core/reshape/pivot.py\u001b[0m in \u001b[0;36m<listcomp>\u001b[0;34m(.0)\u001b[0m\n\u001b[1;32m    461\u001b[0m         \u001b[0;32melse\u001b[0m\u001b[0;34m:\u001b[0m\u001b[0;34m\u001b[0m\u001b[0;34m\u001b[0m\u001b[0m\n\u001b[1;32m    462\u001b[0m             \u001b[0mindex\u001b[0m \u001b[0;34m=\u001b[0m \u001b[0mcom\u001b[0m\u001b[0;34m.\u001b[0m\u001b[0mconvert_to_list_like\u001b[0m\u001b[0;34m(\u001b[0m\u001b[0mindex\u001b[0m\u001b[0;34m)\u001b[0m\u001b[0;34m\u001b[0m\u001b[0;34m\u001b[0m\u001b[0m\n\u001b[0;32m--> 463\u001b[0;31m             \u001b[0mindex\u001b[0m \u001b[0;34m=\u001b[0m \u001b[0;34m[\u001b[0m\u001b[0mdata\u001b[0m\u001b[0;34m[\u001b[0m\u001b[0midx\u001b[0m\u001b[0;34m]\u001b[0m \u001b[0;32mfor\u001b[0m \u001b[0midx\u001b[0m \u001b[0;32min\u001b[0m \u001b[0mindex\u001b[0m\u001b[0;34m]\u001b[0m\u001b[0;34m\u001b[0m\u001b[0;34m\u001b[0m\u001b[0m\n\u001b[0m\u001b[1;32m    464\u001b[0m \u001b[0;34m\u001b[0m\u001b[0m\n\u001b[1;32m    465\u001b[0m         \u001b[0mdata_columns\u001b[0m \u001b[0;34m=\u001b[0m \u001b[0;34m[\u001b[0m\u001b[0mdata\u001b[0m\u001b[0;34m[\u001b[0m\u001b[0mcol\u001b[0m\u001b[0;34m]\u001b[0m \u001b[0;32mfor\u001b[0m \u001b[0mcol\u001b[0m \u001b[0;32min\u001b[0m \u001b[0mcolumns\u001b[0m\u001b[0;34m]\u001b[0m\u001b[0;34m\u001b[0m\u001b[0;34m\u001b[0m\u001b[0m\n",
      "\u001b[0;32m~/.local/lib/python3.8/site-packages/pandas/core/frame.py\u001b[0m in \u001b[0;36m__getitem__\u001b[0;34m(self, key)\u001b[0m\n\u001b[1;32m   2900\u001b[0m             \u001b[0;32mif\u001b[0m \u001b[0mself\u001b[0m\u001b[0;34m.\u001b[0m\u001b[0mcolumns\u001b[0m\u001b[0;34m.\u001b[0m\u001b[0mnlevels\u001b[0m \u001b[0;34m>\u001b[0m \u001b[0;36m1\u001b[0m\u001b[0;34m:\u001b[0m\u001b[0;34m\u001b[0m\u001b[0;34m\u001b[0m\u001b[0m\n\u001b[1;32m   2901\u001b[0m                 \u001b[0;32mreturn\u001b[0m \u001b[0mself\u001b[0m\u001b[0;34m.\u001b[0m\u001b[0m_getitem_multilevel\u001b[0m\u001b[0;34m(\u001b[0m\u001b[0mkey\u001b[0m\u001b[0;34m)\u001b[0m\u001b[0;34m\u001b[0m\u001b[0;34m\u001b[0m\u001b[0m\n\u001b[0;32m-> 2902\u001b[0;31m             \u001b[0mindexer\u001b[0m \u001b[0;34m=\u001b[0m \u001b[0mself\u001b[0m\u001b[0;34m.\u001b[0m\u001b[0mcolumns\u001b[0m\u001b[0;34m.\u001b[0m\u001b[0mget_loc\u001b[0m\u001b[0;34m(\u001b[0m\u001b[0mkey\u001b[0m\u001b[0;34m)\u001b[0m\u001b[0;34m\u001b[0m\u001b[0;34m\u001b[0m\u001b[0m\n\u001b[0m\u001b[1;32m   2903\u001b[0m             \u001b[0;32mif\u001b[0m \u001b[0mis_integer\u001b[0m\u001b[0;34m(\u001b[0m\u001b[0mindexer\u001b[0m\u001b[0;34m)\u001b[0m\u001b[0;34m:\u001b[0m\u001b[0;34m\u001b[0m\u001b[0;34m\u001b[0m\u001b[0m\n\u001b[1;32m   2904\u001b[0m                 \u001b[0mindexer\u001b[0m \u001b[0;34m=\u001b[0m \u001b[0;34m[\u001b[0m\u001b[0mindexer\u001b[0m\u001b[0;34m]\u001b[0m\u001b[0;34m\u001b[0m\u001b[0;34m\u001b[0m\u001b[0m\n",
      "\u001b[0;32m~/.local/lib/python3.8/site-packages/pandas/core/indexes/base.py\u001b[0m in \u001b[0;36mget_loc\u001b[0;34m(self, key, method, tolerance)\u001b[0m\n\u001b[1;32m   2889\u001b[0m                 \u001b[0;32mreturn\u001b[0m \u001b[0mself\u001b[0m\u001b[0;34m.\u001b[0m\u001b[0m_engine\u001b[0m\u001b[0;34m.\u001b[0m\u001b[0mget_loc\u001b[0m\u001b[0;34m(\u001b[0m\u001b[0mcasted_key\u001b[0m\u001b[0;34m)\u001b[0m\u001b[0;34m\u001b[0m\u001b[0;34m\u001b[0m\u001b[0m\n\u001b[1;32m   2890\u001b[0m             \u001b[0;32mexcept\u001b[0m \u001b[0mKeyError\u001b[0m \u001b[0;32mas\u001b[0m \u001b[0merr\u001b[0m\u001b[0;34m:\u001b[0m\u001b[0;34m\u001b[0m\u001b[0;34m\u001b[0m\u001b[0m\n\u001b[0;32m-> 2891\u001b[0;31m                 \u001b[0;32mraise\u001b[0m \u001b[0mKeyError\u001b[0m\u001b[0;34m(\u001b[0m\u001b[0mkey\u001b[0m\u001b[0;34m)\u001b[0m \u001b[0;32mfrom\u001b[0m \u001b[0merr\u001b[0m\u001b[0;34m\u001b[0m\u001b[0;34m\u001b[0m\u001b[0m\n\u001b[0m\u001b[1;32m   2892\u001b[0m \u001b[0;34m\u001b[0m\u001b[0m\n\u001b[1;32m   2893\u001b[0m         \u001b[0;32mif\u001b[0m \u001b[0mtolerance\u001b[0m \u001b[0;32mis\u001b[0m \u001b[0;32mnot\u001b[0m \u001b[0;32mNone\u001b[0m\u001b[0;34m:\u001b[0m\u001b[0;34m\u001b[0m\u001b[0;34m\u001b[0m\u001b[0m\n",
      "\u001b[0;31mKeyError\u001b[0m: 'feature_name'"
     ]
    }
   ],
   "source": [
    "coefficients = coefficients.pivot(index='feature_name', columns='crop', values='coef')\n",
    "coefficients['1_hour'].plot(kind='barh', figsize=(9, 7))\n",
    "plt.title('Coefficients of linear model')\n",
    "plt.axvline(x=0, color='.5')\n",
    "plt.subplots_adjust(left=.3)\n",
    "#plt.savefig('coeff.png')\n"
   ]
  },
  {
   "cell_type": "code",
   "execution_count": 17,
   "metadata": {},
   "outputs": [],
   "source": [
    "# store results\n",
    "results.to_csv('../data/test_material/baselines_v2.csv', header=True, index=False)"
   ]
  }
 ],
 "metadata": {
  "kernelspec": {
   "display_name": "Python 3",
   "language": "python",
   "name": "python3"
  },
  "language_info": {
   "codemirror_mode": {
    "name": "ipython",
    "version": 3
   },
   "file_extension": ".py",
   "mimetype": "text/x-python",
   "name": "python",
   "nbconvert_exporter": "python",
   "pygments_lexer": "ipython3",
   "version": "3.8.5-final"
  }
 },
 "nbformat": 4,
 "nbformat_minor": 2
}