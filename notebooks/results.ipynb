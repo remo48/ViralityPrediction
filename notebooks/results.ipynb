{
 "metadata": {
  "language_info": {
   "codemirror_mode": {
    "name": "ipython",
    "version": 3
   },
   "file_extension": ".py",
   "mimetype": "text/x-python",
   "name": "python",
   "nbconvert_exporter": "python",
   "pygments_lexer": "ipython3",
   "version": "3.8.5-final"
  },
  "orig_nbformat": 2,
  "kernelspec": {
   "name": "python37564bit7902d3b6b96f4e0481d11ecc1823e43f",
   "display_name": "Python 3.7.5 64-bit",
   "language": "python"
  }
 },
 "nbformat": 4,
 "nbformat_minor": 2,
 "cells": [
  {
   "cell_type": "code",
   "execution_count": 2,
   "metadata": {},
   "outputs": [],
   "source": [
    "import pandas as pd"
   ]
  },
  {
   "cell_type": "code",
   "execution_count": 19,
   "metadata": {},
   "outputs": [],
   "source": [
    "variants = ['15_mins', '30_mins', '1_hour', '3_hour', '24_hour']"
   ]
  },
  {
   "cell_type": "code",
   "execution_count": 23,
   "metadata": {},
   "outputs": [
    {
     "output_type": "execute_result",
     "data": {
      "text/plain": [
       "'\\\\begin{tabular}{lrrrrrrrrrr}\\n\\\\toprule\\nvariant & \\\\multicolumn{2}{l}{15\\\\_mins} & \\\\multicolumn{2}{l}{30\\\\_mins} & \\\\multicolumn{2}{l}{1\\\\_hour} & \\\\multicolumn{2}{l}{3\\\\_hour} & \\\\multicolumn{2}{l}{24\\\\_hour} \\\\\\\\\\n{} &      mse &       mae &       mse &       mae &       mse &       mae &       mse &       mae &       mse &      mae \\\\\\\\\\n\\\\midrule\\n0 &  0.51204 &  0.556808 &  0.551627 &  0.559724 &  0.368663 &  0.493551 &  0.387819 &  0.477967 &  0.245614 &  0.34316 \\\\\\\\\\n\\\\bottomrule\\n\\\\end{tabular}\\n'"
      ]
     },
     "metadata": {},
     "execution_count": 23
    }
   ],
   "source": [
    "cascade_lstm = pd.read_csv('../results/experiment_1.csv')\n",
    "(cascade_lstm.groupby('variant')\n",
    ".agg({'val_loss':'mean', 'val_mae':'mean'})\n",
    ".stack()\n",
    ".rename(index={'val_loss':'mse', 'val_mae':'mae'})\n",
    ".to_frame().transpose()[variants]\n",
    ".to_latex())"
   ]
  },
  {
   "cell_type": "code",
   "execution_count": null,
   "metadata": {},
   "outputs": [],
   "source": [
    "res = pd.DataFrame"
   ]
  }
 ]
}