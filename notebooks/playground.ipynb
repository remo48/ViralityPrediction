{
 "cells": [
  {
   "cell_type": "code",
   "execution_count": 1,
   "metadata": {},
   "outputs": [],
   "source": [
    "import pandas as pd\n",
    "from ast import literal_eval\n",
    "import datetime"
   ]
  },
  {
   "cell_type": "code",
   "execution_count": 2,
   "metadata": {},
   "outputs": [],
   "source": [
    "source_dir = '../data/'\n",
    "dest_dir = '../data/'\n",
    "raw_data_file = source_dir + 'raw_data_anon.csv'\n",
    "raw_emotions_file = source_dir + 'emotions_anon.csv'\n",
    "raw_metadata_file = source_dir + 'metadata_anon.txt'"
   ]
  },
  {
   "cell_type": "code",
   "execution_count": 3,
   "metadata": {},
   "outputs": [
    {
     "output_type": "execute_result",
     "data": {
      "text/plain": "          tid veracity  cascade_id rumor_id rumor_category  parent_tid  \\\n0  5970798468    FALSE           0     r_-1       Politics          -1   \n1           0    FALSE           1      r_0       Politics          -1   \n2      632718    FALSE           2      r_2       Politics          -1   \n3      643829    FALSE           3     r_24       Politics          -1   \n4      654940    FALSE           4      r_1       Politics          -1   \n\n            tweet_date user_account_age user_verified user_followers  \\\n0  2015-05-09 16:45:03             2064         False           4353   \n1  2013-08-22 21:09:08             1326         False            164   \n2  2015-10-24 17:50:24              136         False          14149   \n3  2015-09-10 05:43:00             1054         False           1363   \n4  2013-04-22 18:46:37             1568         False            717   \n\n  user_followees  user_engagement    cascade_root_tid  was_retweeted  \n0            963         2.461932  597079846846668800              0  \n1            236         7.092405                   0              0  \n2          13846       198.410726              632718              0  \n3           1325         3.864481              643829              0  \n4           2071         1.428586              654940              0  ",
      "text/html": "<div>\n<style scoped>\n    .dataframe tbody tr th:only-of-type {\n        vertical-align: middle;\n    }\n\n    .dataframe tbody tr th {\n        vertical-align: top;\n    }\n\n    .dataframe thead th {\n        text-align: right;\n    }\n</style>\n<table border=\"1\" class=\"dataframe\">\n  <thead>\n    <tr style=\"text-align: right;\">\n      <th></th>\n      <th>tid</th>\n      <th>veracity</th>\n      <th>cascade_id</th>\n      <th>rumor_id</th>\n      <th>rumor_category</th>\n      <th>parent_tid</th>\n      <th>tweet_date</th>\n      <th>user_account_age</th>\n      <th>user_verified</th>\n      <th>user_followers</th>\n      <th>user_followees</th>\n      <th>user_engagement</th>\n      <th>cascade_root_tid</th>\n      <th>was_retweeted</th>\n    </tr>\n  </thead>\n  <tbody>\n    <tr>\n      <th>0</th>\n      <td>5970798468</td>\n      <td>FALSE</td>\n      <td>0</td>\n      <td>r_-1</td>\n      <td>Politics</td>\n      <td>-1</td>\n      <td>2015-05-09 16:45:03</td>\n      <td>2064</td>\n      <td>False</td>\n      <td>4353</td>\n      <td>963</td>\n      <td>2.461932</td>\n      <td>597079846846668800</td>\n      <td>0</td>\n    </tr>\n    <tr>\n      <th>1</th>\n      <td>0</td>\n      <td>FALSE</td>\n      <td>1</td>\n      <td>r_0</td>\n      <td>Politics</td>\n      <td>-1</td>\n      <td>2013-08-22 21:09:08</td>\n      <td>1326</td>\n      <td>False</td>\n      <td>164</td>\n      <td>236</td>\n      <td>7.092405</td>\n      <td>0</td>\n      <td>0</td>\n    </tr>\n    <tr>\n      <th>2</th>\n      <td>632718</td>\n      <td>FALSE</td>\n      <td>2</td>\n      <td>r_2</td>\n      <td>Politics</td>\n      <td>-1</td>\n      <td>2015-10-24 17:50:24</td>\n      <td>136</td>\n      <td>False</td>\n      <td>14149</td>\n      <td>13846</td>\n      <td>198.410726</td>\n      <td>632718</td>\n      <td>0</td>\n    </tr>\n    <tr>\n      <th>3</th>\n      <td>643829</td>\n      <td>FALSE</td>\n      <td>3</td>\n      <td>r_24</td>\n      <td>Politics</td>\n      <td>-1</td>\n      <td>2015-09-10 05:43:00</td>\n      <td>1054</td>\n      <td>False</td>\n      <td>1363</td>\n      <td>1325</td>\n      <td>3.864481</td>\n      <td>643829</td>\n      <td>0</td>\n    </tr>\n    <tr>\n      <th>4</th>\n      <td>654940</td>\n      <td>FALSE</td>\n      <td>4</td>\n      <td>r_1</td>\n      <td>Politics</td>\n      <td>-1</td>\n      <td>2013-04-22 18:46:37</td>\n      <td>1568</td>\n      <td>False</td>\n      <td>717</td>\n      <td>2071</td>\n      <td>1.428586</td>\n      <td>654940</td>\n      <td>0</td>\n    </tr>\n  </tbody>\n</table>\n</div>"
     },
     "metadata": {},
     "execution_count": 3
    }
   ],
   "source": [
    "df = pd.read_csv(raw_data_file)\n",
    "df.head(5)"
   ]
  },
  {
   "cell_type": "code",
   "execution_count": 18,
   "metadata": {
    "tags": []
   },
   "outputs": [
    {
     "output_type": "execute_result",
     "data": {
      "text/plain": "       veracity    tid\n0         FALSE      1\n1         FALSE     10\n2         FALSE    100\n3         FALSE   1000\n4         FALSE  10000\n...         ...    ...\n126296     TRUE  99995\n126297     TRUE  99996\n126298     TRUE  99997\n126299     TRUE  99998\n126300     TRUE  99999\n\n[126301 rows x 2 columns]",
      "text/html": "<div>\n<style scoped>\n    .dataframe tbody tr th:only-of-type {\n        vertical-align: middle;\n    }\n\n    .dataframe tbody tr th {\n        vertical-align: top;\n    }\n\n    .dataframe thead th {\n        text-align: right;\n    }\n</style>\n<table border=\"1\" class=\"dataframe\">\n  <thead>\n    <tr style=\"text-align: right;\">\n      <th></th>\n      <th>veracity</th>\n      <th>tid</th>\n    </tr>\n  </thead>\n  <tbody>\n    <tr>\n      <th>0</th>\n      <td>FALSE</td>\n      <td>1</td>\n    </tr>\n    <tr>\n      <th>1</th>\n      <td>FALSE</td>\n      <td>10</td>\n    </tr>\n    <tr>\n      <th>2</th>\n      <td>FALSE</td>\n      <td>100</td>\n    </tr>\n    <tr>\n      <th>3</th>\n      <td>FALSE</td>\n      <td>1000</td>\n    </tr>\n    <tr>\n      <th>4</th>\n      <td>FALSE</td>\n      <td>10000</td>\n    </tr>\n    <tr>\n      <th>...</th>\n      <td>...</td>\n      <td>...</td>\n    </tr>\n    <tr>\n      <th>126296</th>\n      <td>TRUE</td>\n      <td>99995</td>\n    </tr>\n    <tr>\n      <th>126297</th>\n      <td>TRUE</td>\n      <td>99996</td>\n    </tr>\n    <tr>\n      <th>126298</th>\n      <td>TRUE</td>\n      <td>99997</td>\n    </tr>\n    <tr>\n      <th>126299</th>\n      <td>TRUE</td>\n      <td>99998</td>\n    </tr>\n    <tr>\n      <th>126300</th>\n      <td>TRUE</td>\n      <td>99999</td>\n    </tr>\n  </tbody>\n</table>\n<p>126301 rows × 2 columns</p>\n</div>"
     },
     "metadata": {},
     "execution_count": 18
    }
   ],
   "source": [
    "meta = []\n",
    "with open(raw_metadata_file, 'r') as fin:\n",
    "    for line in fin.readlines():\n",
    "        cascade_id, metadata = eval(line)\n",
    "        metadata = {k:metadata[k] for k in ['virality']}\n",
    "        metadata['tid'] = cascade_id\n",
    "        meta.append(metadata)\n",
    "\n",
    "df_meta = pd.DataFrame(meta)\n",
    "del meta\n",
    "df_meta"
   ]
  },
  {
   "cell_type": "code",
   "execution_count": 14,
   "metadata": {},
   "outputs": [
    {
     "output_type": "error",
     "ename": "TypeError",
     "evalue": "unhashable type: 'list'",
     "traceback": [
      "\u001b[0;31m---------------------------------------------------------------------------\u001b[0m",
      "\u001b[0;31mTypeError\u001b[0m                                 Traceback (most recent call last)",
      "\u001b[0;32m<ipython-input-14-ad2cfd5cd671>\u001b[0m in \u001b[0;36m<module>\u001b[0;34m\u001b[0m\n\u001b[1;32m      2\u001b[0m \u001b[0mtest_dict\u001b[0m \u001b[0;34m=\u001b[0m \u001b[0meval\u001b[0m\u001b[0;34m(\u001b[0m\u001b[0mrepr\u001b[0m\u001b[0;34m(\u001b[0m\u001b[0;34m(\u001b[0m\u001b[0;36m1\u001b[0m\u001b[0;34m,\u001b[0m\u001b[0mtest\u001b[0m\u001b[0;34m)\u001b[0m\u001b[0;34m)\u001b[0m\u001b[0;34m)\u001b[0m\u001b[0;34m\u001b[0m\u001b[0;34m\u001b[0m\u001b[0m\n\u001b[1;32m      3\u001b[0m \u001b[0mtnum\u001b[0m\u001b[0;34m,\u001b[0m \u001b[0mtdict\u001b[0m \u001b[0;34m=\u001b[0m \u001b[0mtest_dict\u001b[0m\u001b[0;34m\u001b[0m\u001b[0;34m\u001b[0m\u001b[0m\n\u001b[0;32m----> 4\u001b[0;31m \u001b[0mprint\u001b[0m\u001b[0;34m(\u001b[0m\u001b[0mtdict\u001b[0m\u001b[0;34m[\u001b[0m\u001b[0;34m[\u001b[0m\u001b[0;34m'virality'\u001b[0m\u001b[0;34m,\u001b[0m \u001b[0;34m'rumor_id'\u001b[0m\u001b[0;34m]\u001b[0m\u001b[0;34m]\u001b[0m\u001b[0;34m)\u001b[0m\u001b[0;34m\u001b[0m\u001b[0;34m\u001b[0m\u001b[0m\n\u001b[0m",
      "\u001b[0;31mTypeError\u001b[0m: unhashable type: 'list'"
     ]
    }
   ],
   "source": [
    "test = {'virality': None, 'verified_list': [False], 'rumor_id': 'r_0', 'depth2time': {}, 'veracity': 'FALSE', 'num_followees_list': [236], 'engagement_list': [7.09240543598], 'num_followers_list': [164], 'accountage_list': [1326], 'depth2uu': {}, 'uu2time': {1: 0.0}, 'depth': 0, 'unique_users': 1, 'depth2breadth': {}, 'root_tid': 0, 'rumor_category': 'Politics', 'max_breadth': 1, 'start_date': datetime.datetime(2013, 8, 22, 21, 9, 8), 'size': 1}\n",
    "test_dict = eval(repr((1,test)))\n",
    "tnum, tdict = test_dict\n",
    "tdict = {k:metadata[k] for k in ['veracity']}\n",
    "tdict "
   ]
  },
  {
   "cell_type": "code",
   "execution_count": null,
   "metadata": {},
   "outputs": [],
   "source": []
  }
 ],
 "metadata": {
  "kernelspec": {
   "display_name": "Python 3",
   "language": "python",
   "name": "python3"
  },
  "language_info": {
   "codemirror_mode": {
    "name": "ipython",
    "version": 3
   },
   "file_extension": ".py",
   "mimetype": "text/x-python",
   "name": "python",
   "nbconvert_exporter": "python",
   "pygments_lexer": "ipython3",
   "version": "3.8.2-final"
  }
 },
 "nbformat": 4,
 "nbformat_minor": 4
}